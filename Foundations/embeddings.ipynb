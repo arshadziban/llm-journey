{
 "cells": [
  {
   "cell_type": "code",
   "execution_count": 4,
   "id": "d1086abe",
   "metadata": {},
   "outputs": [],
   "source": [
    "import numpy as np\n",
    "from sklearn.metrics.pairwise import cosine_similarity"
   ]
  },
  {
   "cell_type": "code",
   "execution_count": 5,
   "id": "a171061d",
   "metadata": {},
   "outputs": [],
   "source": [
    "# Movie embeddings (numerical representations)\n",
    "# Format: [action_score, comedy_score, romance_score]\n",
    "movie_embeddings = {\n",
    "    \"Mission Impossible\": [0.9, 0.1, 0.2],\n",
    "    \"Top Gun\": [0.85, 0.15, 0.3],\n",
    "    \"Barbie\": [0.1, 0.8, 0.7],\n",
    "    \"The Notebook\": [0.1, 0.3, 0.95],\n",
    "    \"John Wick\": [0.95, 0.05, 0.1],\n",
    "    \"Superbad\": [0.2, 0.9, 0.4]\n",
    "}"
   ]
  },
  {
   "cell_type": "code",
   "execution_count": 6,
   "id": "4d93ff48",
   "metadata": {},
   "outputs": [
    {
     "data": {
      "text/plain": [
       "{'Mission Impossible': [0.9, 0.1, 0.2],\n",
       " 'Top Gun': [0.85, 0.15, 0.3],\n",
       " 'Barbie': [0.1, 0.8, 0.7],\n",
       " 'The Notebook': [0.1, 0.3, 0.95],\n",
       " 'John Wick': [0.95, 0.05, 0.1],\n",
       " 'Superbad': [0.2, 0.9, 0.4]}"
      ]
     },
     "execution_count": 6,
     "metadata": {},
     "output_type": "execute_result"
    }
   ],
   "source": [
    "movie_embeddings"
   ]
  },
  {
   "cell_type": "code",
   "execution_count": null,
   "id": "8feae107",
   "metadata": {},
   "outputs": [],
   "source": [
    "def recommend_movies(movie_name, num_recommendations=3):\n",
    "    # Get the target movie's embedding\n",
    "    target = np.array(movie_embeddings[movie_name]).reshape(1, -1)\n",
    "    \n",
    "    # Calculate similarity with all other movies\n",
    "    similarities = {}\n",
    "    for movie, embedding in movie_embeddings.items():\n",
    "        if movie != movie_name:\n",
    "            embedding = np.array(embedding).reshape(1, -1)\n",
    "            similarity = cosine_similarity(target, embedding)[0][0]\n",
    "            similarities[movie] = similarity\n",
    "    \n",
    "    # Sort by most similar\n",
    "    recommended = sorted(similarities.items(), key=lambda x: x[1], reverse=True)\n",
    "    \n",
    "    # Return top recommendations\n",
    "    return recommended[:num_recommendations]"
   ]
  },
  {
   "cell_type": "code",
   "execution_count": 8,
   "id": "9468eaee",
   "metadata": {},
   "outputs": [
    {
     "name": "stdout",
     "output_type": "stream",
     "text": [
      "If you liked 'Top Gun', you might enjoy:\n",
      "- Mission Impossible (similarity: 0.99)\n",
      "- John Wick (similarity: 0.97)\n",
      "- Superbad (similarity: 0.46)\n"
     ]
    }
   ],
   "source": [
    "print(\"If you liked 'Top Gun', you might enjoy:\")\n",
    "for movie, similarity in recommend_movies(\"Top Gun\"):\n",
    "    print(f\"- {movie} (similarity: {similarity:.2f})\")"
   ]
  }
 ],
 "metadata": {
  "kernelspec": {
   "display_name": "env",
   "language": "python",
   "name": "python3"
  },
  "language_info": {
   "codemirror_mode": {
    "name": "ipython",
    "version": 3
   },
   "file_extension": ".py",
   "mimetype": "text/x-python",
   "name": "python",
   "nbconvert_exporter": "python",
   "pygments_lexer": "ipython3",
   "version": "3.10.6"
  }
 },
 "nbformat": 4,
 "nbformat_minor": 5
}

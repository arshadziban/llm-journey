{
 "cells": [
  {
   "cell_type": "code",
   "execution_count": 1,
   "id": "9b3da2e6",
   "metadata": {},
   "outputs": [
    {
     "name": "stderr",
     "output_type": "stream",
     "text": [
      "d:\\Skills\\llm-journey\\env\\lib\\site-packages\\tqdm\\auto.py:21: TqdmWarning: IProgress not found. Please update jupyter and ipywidgets. See https://ipywidgets.readthedocs.io/en/stable/user_install.html\n",
      "  from .autonotebook import tqdm as notebook_tqdm\n"
     ]
    }
   ],
   "source": [
    "from datasets import load_dataset\n",
    "from transformers import AutoTokenizer, DataCollatorWithPadding"
   ]
  },
  {
   "cell_type": "markdown",
   "id": "5b8917f4",
   "metadata": {},
   "source": [
    "## Libraries Used\n",
    "\n",
    "- **`load_dataset`**: \n",
    "  - Brings in the data you need for training or testing a model, like a text dataset.\n",
    "  \n",
    "- **`AutoTokenizer`**: \n",
    "  - Converts the text into a format that a model can understand by changing words into numbers.\n",
    "\n",
    "- **`DataCollatorWithPadding`**: \n",
    "  - Ensures all sentences in a group (batch) have the same length by adding extra space (padding) where needed.\n"
   ]
  },
  {
   "cell_type": "markdown",
   "id": "043b3e54",
   "metadata": {},
   "source": []
  }
 ],
 "metadata": {
  "kernelspec": {
   "display_name": "env",
   "language": "python",
   "name": "python3"
  },
  "language_info": {
   "codemirror_mode": {
    "name": "ipython",
    "version": 3
   },
   "file_extension": ".py",
   "mimetype": "text/x-python",
   "name": "python",
   "nbconvert_exporter": "python",
   "pygments_lexer": "ipython3",
   "version": "3.10.6"
  }
 },
 "nbformat": 4,
 "nbformat_minor": 5
}

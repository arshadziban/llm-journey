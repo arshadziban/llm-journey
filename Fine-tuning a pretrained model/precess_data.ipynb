{
 "cells": [
  {
   "cell_type": "markdown",
   "id": "072299ec",
   "metadata": {},
   "source": [
    "# Fine-Tuning\n",
    "Fine-tuning means taking a model that already learned many things and teaching it more using your own data, so it works better for your task."
   ]
  },
  {
   "cell_type": "markdown",
   "id": "467d36d3",
   "metadata": {},
   "source": []
  }
 ],
 "metadata": {
  "language_info": {
   "name": "python"
  }
 },
 "nbformat": 4,
 "nbformat_minor": 5
}
